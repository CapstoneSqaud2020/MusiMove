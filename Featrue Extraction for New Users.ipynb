{
 "cells": [
  {
   "cell_type": "code",
   "execution_count": 1,
   "metadata": {},
   "outputs": [],
   "source": [
    "import matplotlib.pyplot as plt\n",
    "import numpy as np\n",
    "import pandas as pd\n",
    "\n",
    "def findGEI(preProcessedData):\n",
    "    \n",
    "    GEIs = []\n",
    "    testDf = pd.DataFrame()\n",
    "    \n",
    "    testDf = pd.DataFrame.from_dict(preProcessedData, dtype = 'uint8')\n",
    "    \n",
    "    for d in preProcessedData:\n",
    "        tempArr = np.asarray(d.get(\"cycleImgs\"))\n",
    "        GEIs.append(np.mean(tempArr, axis = 0))\n",
    "        \n",
    "    subIds = pd.DataFrame.to_numpy(testDf['usr_id'], dtype = 'int32')\n",
    "    \n",
    "    return GEIs, subIds"
   ]
  },
  {
   "cell_type": "code", 
   "execution_count": 2,
   "metadata": {},
   "outputs": [],
   "source": [
    "from sklearn.model_selection import train_test_split\n",
    "\n",
    "def getFeatures(preProcessedData):\n",
    "    \n",
    "    combinedGEIs, subIds = findGEI(preProcessedData)\n",
    "    \n",
    "    X_train, X_test, y_train, y_test = train_test_split(combinedGEIs, subIds, test_size=0.30, random_state=42)\n",
    "    \n",
    "    return X_train, X_test, y_train, y_test"
   ]
  },
  {
   "cell_type": "code",
   "execution_count": 3,
   "metadata": {},
   "outputs": [],
   "source": [
    "def callModel(preProcessedData):\n",
    "    \n",
    "    X_train, X_test, y_train, y_test = getFeatures(preProcessedData)\n",
    "    \n",
    "    probVectorORClass = CNN(X_train, X_test, y_train, y_test) #final list of probabilities/final classification\n",
    "    \n",
    "    return probVectorORClass\n",
    "    "
   ]
  }
 ],
 "metadata": {
  "kernelspec": {
   "display_name": "Python 3",
   "language": "python",
   "name": "python3"
  },
  "language_info": {
   "codemirror_mode": {
    "name": "ipython",
    "version": 3
   },
   "file_extension": ".py",
   "mimetype": "text/x-python",
   "name": "python",
   "nbconvert_exporter": "python",
   "pygments_lexer": "ipython3",
   "version": "3.7.5"
  }
 },
 "nbformat": 4,
 "nbformat_minor": 2
}
